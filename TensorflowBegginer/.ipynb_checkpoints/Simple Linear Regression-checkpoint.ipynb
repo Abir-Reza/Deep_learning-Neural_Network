{
 "cells": [
  {
   "cell_type": "markdown",
   "metadata": {},
   "source": [
    "# Understanding Simple Linear regression (using numpy)\n",
    "### Without Tensorflow\n",
    "\n"
   ]
  },
  {
   "cell_type": "code",
   "execution_count": 7,
   "metadata": {},
   "outputs": [],
   "source": [
    "import numpy as np\n",
    "import matplotlib.pyplot as plt\n",
    "from mpl_toolkits.mplot3d import Axes3D  # provides nice 3D graph"
   ]
  },
  {
   "cell_type": "markdown",
   "metadata": {},
   "source": [
    "### Generate input"
   ]
  },
  {
   "cell_type": "code",
   "execution_count": 11,
   "metadata": {},
   "outputs": [
    {
     "data": {
      "text/plain": [
       "(1000, 2)"
      ]
     },
     "execution_count": 11,
     "metadata": {},
     "output_type": "execute_result"
    }
   ],
   "source": [
    "observations =1000\n",
    "\n",
    "xs= np.random.uniform(low= -10,high= 10, size=(observations,1))\n",
    "zs= np.random.uniform(-10, 10, (observations,1))\n",
    "                      \n",
    "input = np.column_stack((xs,zs))  \n",
    "\n",
    "input.shape"
   ]
  },
  {
   "cell_type": "markdown",
   "metadata": {},
   "source": [
    "### Generate Target\n",
    "#### targets = f(x,z) = 2*x -3*z +  5 + noise"
   ]
  },
  {
   "cell_type": "code",
   "execution_count": 15,
   "metadata": {},
   "outputs": [
    {
     "data": {
      "text/plain": [
       "(1000, 1)"
      ]
     },
     "execution_count": 15,
     "metadata": {},
     "output_type": "execute_result"
    }
   ],
   "source": [
    "noise= np.random.uniform(-1,1,(observations,1))\n",
    "\n",
    "targets = 2*xs - 3*zs +5 + noise   # 2,3 are weights and 5 is 'b'(bias)\n",
    "\n",
    "targets.shape"
   ]
  },
  {
   "cell_type": "markdown",
   "metadata": {},
   "source": [
    "### Initialize variable for weights and Biases"
   ]
  },
  {
   "cell_type": "code",
   "execution_count": 18,
   "metadata": {},
   "outputs": [
    {
     "name": "stdout",
     "output_type": "stream",
     "text": [
      "[[ 0.08614899]\n",
      " [-0.09454726]]\n",
      "[-0.02891241]\n"
     ]
    }
   ],
   "source": [
    "init_range = 0.1\n",
    "\n",
    "weights = np.random.uniform(-init_range, init_range,size=(2,1))\n",
    "\n",
    "biases = np.random.uniform(-init_range, init_range,size=1)\n",
    "\n",
    "print(weights)\n",
    "\n",
    "print(biases)"
   ]
  },
  {
   "cell_type": "markdown",
   "metadata": {},
   "source": [
    "### Set a learning rate "
   ]
  },
  {
   "cell_type": "code",
   "execution_count": 19,
   "metadata": {},
   "outputs": [],
   "source": [
    "learning_rate = 0.02  ### There are ways to find suitable learning rates, will be Discussed later."
   ]
  },
  {
   "cell_type": "markdown",
   "metadata": {},
   "source": [
    "### Train the Model"
   ]
  },
  {
   "cell_type": "code",
   "execution_count": 27,
   "metadata": {},
   "outputs": [
    {
     "name": "stdout",
     "output_type": "stream",
     "text": [
      "0.16352539736495425\n",
      "0.16336738216857355\n",
      "0.163215607050899\n",
      "0.16306982558890826\n",
      "0.16292980109091562\n",
      "0.1627953062122778\n",
      "0.1626661225862758\n",
      "0.16254204046957324\n",
      "0.16242285840167603\n",
      "0.16230838287783955\n",
      "0.16219842803489348\n",
      "0.16209281534947287\n",
      "0.16199137334816677\n",
      "0.16189393732911259\n",
      "0.1618003490945859\n",
      "0.16171045669414844\n",
      "0.1616241141779415\n",
      "0.16154118135972026\n",
      "0.1614615235892468\n",
      "0.161385011533671\n",
      "0.16131152096754503\n",
      "0.1612409325711298\n",
      "0.1611731317366672\n",
      "0.16110800838230194\n",
      "0.16104545677335197\n",
      "0.1609853753506373\n",
      "0.16092766656558713\n",
      "0.16087223672186027\n",
      "0.16081899582321882\n",
      "0.1607678574274095\n",
      "0.16071873850581567\n",
      "0.1606715593086517\n",
      "0.1606262432354805\n",
      "0.16058271671084465\n",
      "0.16054090906480872\n",
      "0.1605007524182194\n",
      "0.16046218157249634\n",
      "0.16042513390377508\n",
      "0.16038954926123114\n",
      "0.16035536986941798\n",
      "0.16032254023446313\n",
      "0.16029100705396793\n",
      "0.1602607191304647\n",
      "0.16023162728829302\n",
      "0.16020368429375773\n",
      "0.1601768447784395\n",
      "0.16015106516553473\n",
      "0.16012630359910413\n",
      "0.1601025198761149\n",
      "0.16007967538116685\n",
      "0.1600577330237964\n",
      "0.16003665717825594\n",
      "0.16001641362567215\n",
      "0.15999696949848716\n",
      "0.15997829322709572\n",
      "0.15996035448858784\n",
      "0.1599431241575162\n",
      "0.15992657425860876\n",
      "0.15991067792134675\n",
      "0.1598954093363385\n",
      "0.15988074371341468\n",
      "0.15986665724137897\n",
      "0.159853127049348\n",
      "0.159840131169618\n",
      "0.15982764850199835\n",
      "0.15981565877955217\n",
      "0.1598041425356919\n",
      "0.15979308107257256\n",
      "0.159782456430734\n",
      "0.1597722513599418\n",
      "0.1597624492911799\n",
      "0.1597530343097485\n",
      "0.15974399112942553\n",
      "0.15973530506764724\n",
      "0.15972696202166986\n",
      "0.1597189484456722\n",
      "0.1597112513287625\n",
      "0.1597038581738542\n",
      "0.15969675697737495\n",
      "0.1596899362097782\n",
      "0.15968338479682342\n",
      "0.15967709210159586\n",
      "0.15967104790723655\n",
      "0.15966524240035393\n",
      "0.15965966615509117\n",
      "0.1596543101178218\n",
      "0.15964916559245057\n",
      "0.15964422422629415\n",
      "0.15963947799651973\n",
      "0.1596349191971194\n",
      "0.15963054042639788\n",
      "0.1596263345749561\n",
      "0.1596222948141475\n",
      "0.1596184145849915\n",
      "0.15961468758752378\n",
      "0.1596111077705684\n",
      "0.15960766932191203\n",
      "0.1596043666588683\n",
      "0.15960119441921305\n",
      "0.15959814745247813\n"
     ]
    }
   ],
   "source": [
    "for i in range(100) :\n",
    "    predicted= np.dot(input,weights) + biases\n",
    "    \n",
    "    deltas = predicted - targets\n",
    "    \n",
    "    loss = np.sum(deltas **2) /2 / observations  ## Mean squared error\n",
    "    print(loss)\n",
    "    \n",
    "    deltas_scaled = deltas / observations\n",
    "    \n",
    "    weights = weights- learning_rate *np.dot(input.T, deltas_scaled)\n",
    "    biases = biases - learning_rate * np.sum(deltas_scaled)\n",
    "    \n",
    "    "
   ]
  },
  {
   "cell_type": "code",
   "execution_count": 28,
   "metadata": {},
   "outputs": [
    {
     "name": "stdout",
     "output_type": "stream",
     "text": [
      "[[ 1.99519142]\n",
      " [-2.99720509]] [4.97550043]\n"
     ]
    }
   ],
   "source": [
    "print(weights,biases)"
   ]
  },
  {
   "cell_type": "markdown",
   "metadata": {},
   "source": [
    "### Plot "
   ]
  },
  {
   "cell_type": "code",
   "execution_count": 33,
   "metadata": {},
   "outputs": [
    {
     "data": {
      "image/png": "[encoded data removed]",
      "text/plain": [
       "<Figure size 432x288 with 1 Axes>"
      ]
     },
     "metadata": {
      "needs_background": "light"
     },
     "output_type": "display_data"
    }
   ],
   "source": [
    "plt.plot(predicted,targets)\n",
    "plt.xlabel('predicted')\n",
    "plt.ylabel('Targets')\n",
    "plt.show()"
   ]
  }
 ],
 "metadata": {
  "kernelspec": {
   "display_name": "Python 3",
   "language": "python",
   "name": "python3"
  },
  "language_info": {
   "codemirror_mode": {
    "name": "ipython",
    "version": 3
   },
   "file_extension": ".py",
   "mimetype": "text/x-python",
   "name": "python",
   "nbconvert_exporter": "python",
   "pygments_lexer": "ipython3",
   "version": "3.7.6"
  }
 },
 "nbformat": 4,
 "nbformat_minor": 4
}
