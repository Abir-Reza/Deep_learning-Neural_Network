{
 "cells": [
  {
   "cell_type": "markdown",
   "metadata": {
    "colab_type": "text",
    "id": "view-in-github"
   },
   "source": [
    "<a href=\"https://colab.research.google.com/github/Abir-Reza/Deep_learning-Neural_Network/blob/master/Sheet_2.ipynb\" target=\"_parent\"><img src=\"https://colab.research.google.com/assets/colab-badge.svg\" alt=\"Open In Colab\"/></a>"
   ]
  },
  {
   "cell_type": "markdown",
   "metadata": {
    "colab_type": "text",
    "id": "6sIbOhL-aJ8g"
   },
   "source": [
    "# Important Information\n",
    "\n",
    "This file has one usage.\n",
    "1. This file can be displayed in Jupyter. You can read the task and insert your answers here. Start the notebook from an Anaconda prompt and change to the working directory containing the *.ipynb file.\n",
    "\n",
    "**For submission**, upload a pdf based on this jupyter notebook. The recommended way is opening the Print Preview (File -> Print Preview) and using a PDF printer. Avoid to generate too large cells: If a cell contains more content than which fits on a normal DIN A4 page, the content will be cut during  printing. A solution to this is to split up the cell into several smaller cells.\n",
    "\n",
    "Mathematical formulations can be inserted with the MathJax (a subset of Latex commands) or as images."
   ]
  },
  {
   "cell_type": "markdown",
   "metadata": {
    "colab_type": "text",
    "id": "UkR9Z-0SaJ8k"
   },
   "source": [
    "# Exercise 1  (Single-layer perceptron and Boolean functions with 2 inputs)\n",
    "\n",
    "a) Show that the Boolean function XOR cannot be realized by a (single-layer) perceptron (with 2 inputs).\n",
    "\n",
    "*Note: The output y of a single-layer perceptron with 2 inputs  $x_1$ and $x_2$, threshold $\\theta$ and weights $w_1$ and $w_2$ is given by $y = \\Theta [x_1 w_1 + x_2 w_2 - \\theta]$*<br>\n",
    "*($\\Theta$ is the Heaviside function)*\n",
    "\n",
    "![IMAGE: perceptron](images/perceptron.png)"
   ]
  },
  {
   "cell_type": "markdown",
   "metadata": {
    "colab_type": "text",
    "id": "FcGMP6UjaJ8n"
   },
   "source": [
    "### Answer\n",
    "\n",
    "Write your answer here."
   ]
  },
  {
   "cell_type": "markdown",
   "metadata": {
    "colab_type": "text",
    "id": "2F0tvPajaJ8q"
   },
   "source": [
    "b) Give all Boolean functions with 2 inputs (i.e. for each Boolean function: the output for each input combination) and indicate whether they can be realized by a (single-layer) perceptron."
   ]
  },
  {
   "cell_type": "markdown",
   "metadata": {
    "colab_type": "text",
    "id": "M_ZYYL8paJ8t"
   },
   "source": [
    "### Answer\n",
    "\n",
    "Write your answer here."
   ]
  },
  {
   "cell_type": "markdown",
   "metadata": {
    "colab_type": "text",
    "id": "dsgkJBP9aJ8v"
   },
   "source": [
    "c) Select three Boolean functions with two inputs and give values for the synaptic weights\n",
    "$w_1$,$w_2$ and threshold $\\theta$ so that the Boolean function is realized by a single-layer\n",
    "perceptron. Show for each of the three Boolean functions and each input pair that the\n",
    "Boolean function is indeed realized by the chosen combination of weights and threshold."
   ]
  },
  {
   "cell_type": "markdown",
   "metadata": {
    "colab_type": "text",
    "id": "QsbbI6RNaJ8x"
   },
   "source": [
    "### Answer\n",
    "\n",
    "Write your answer here."
   ]
  },
  {
   "cell_type": "markdown",
   "metadata": {
    "colab_type": "text",
    "id": "hfP_XnhXaJ82"
   },
   "source": [
    "d)\tWhich of the following partitioning of $\\Re^2$ can be realized by a single-layer perceptron with two inputs? For those that can be realized, give weights and threshold of the perceptron. (Consider abscissa as $x_1$  and ordinate as $x_2$)."
   ]
  },
  {
   "cell_type": "markdown",
   "metadata": {
    "colab_type": "text",
    "id": "yzZUmT00aJ84"
   },
   "source": [
    " i) | ii) | iii)\n",
    "- | - | -\n",
    "![image](images/1d-i.png) |![image](images/1d-ii.png) |![image](images/1d-iii.png)\n",
    "\n",
    " iv) | v) | vi)\n",
    "- | - | -\n",
    "![image](images/1d-iv.png) |![image](images/1d-v.png) |![image](images/1d-vi.png)\n",
    "\n",
    "\n",
    "(From: Riedmiller)"
   ]
  },
  {
   "cell_type": "markdown",
   "metadata": {
    "colab_type": "text",
    "id": "rr6CN4KsaJ86"
   },
   "source": [
    "### Answer\n",
    "\n",
    "Write your answer here."
   ]
  },
  {
   "cell_type": "markdown",
   "metadata": {
    "colab_type": "text",
    "id": "M5TFgahOaJ87"
   },
   "source": [
    "# Exercise 2 (Types of neural networks, synaptic weight matrix)\n",
    "\n",
    "a)\tExplain the following terms related to neural networks:\n",
    "\n",
    "* Boolean function\n",
    "* Feedforward neural network\n",
    "* Recurrent neural network\n",
    "* Multi-layer perceptron\n"
   ]
  },
  {
   "cell_type": "markdown",
   "metadata": {
    "colab_type": "text",
    "id": "uGm2XSZdaJ88"
   },
   "source": [
    "### Answer\n",
    "\n",
    "Write your answer here."
   ]
  },
  {
   "cell_type": "markdown",
   "metadata": {
    "colab_type": "text",
    "id": "SeI-R5VuaJ8-"
   },
   "source": [
    "b)\tSpecify whether the following artificial neural networks are feedforward or recurrent neural networks and explain your selection.\n",
    "\n",
    "\n",
    " i) | ii) \n",
    "- | -\n",
    "![image](images/network-a.png) |![image](images/network-b.png)\n"
   ]
  },
  {
   "cell_type": "markdown",
   "metadata": {
    "colab_type": "text",
    "id": "LIgGAnYfaJ9A"
   },
   "source": [
    "### Answer\n",
    "\n",
    "Write your answer here."
   ]
  },
  {
   "cell_type": "markdown",
   "metadata": {
    "colab_type": "text",
    "id": "yciwi56PaJ9B"
   },
   "source": [
    "c)\tUsing the neuron numbers from 1 to 7 given in the circles, fill out the following general weight matrix by marking the corresponding field entries. Example: Mark the field in row $i$ and column $j$ (weight $w_{ij}$) if there is a connection from neuron $j$ to neuron $i$.\n",
    "\n",
    "![image](images/matrix.png)"
   ]
  },
  {
   "cell_type": "markdown",
   "metadata": {
    "colab_type": "text",
    "id": "lf-Thp0NaJ9C"
   },
   "source": [
    "### Answer\n",
    "\n",
    "Write your answer here."
   ]
  },
  {
   "cell_type": "markdown",
   "metadata": {
    "colab_type": "text",
    "id": "a2lvixhLaJ9D"
   },
   "source": [
    "# Exercise 3 (Computing the output of a feedforward neural network)\n",
    "\n",
    "a) Compute the output of the following feedforward neural network for the input  $x_1 = 3$; $x_2 = 1$. <br>\n",
    "    Which neurons can be computed in parallel, which have to wait?\n"
   ]
  },
  {
   "cell_type": "markdown",
   "metadata": {
    "colab_type": "text",
    "id": "7q53UdhxaJ9F"
   },
   "source": [
    "The network:\n",
    "\n",
    "![network](images/exercise3.jpg)\n"
   ]
  },
  {
   "cell_type": "markdown",
   "metadata": {
    "colab_type": "text",
    "id": "btEIJ65yaJ9G"
   },
   "source": [
    "Note: \n",
    "* The small numbers in each circle correspond to the components of the weight vector; see example below.  In this part of the exercise, the threshold is set to $\\theta$ =0 for all neurons.\n",
    "* c is the slope of the linear activation function:  $f(h) = c \\cdot h$\n",
    "* “Threshold element” means that the activation function is the Heaviside function\n",
    "![image](images/exercise3-explanation.png)"
   ]
  },
  {
   "cell_type": "markdown",
   "metadata": {
    "colab_type": "text",
    "id": "DZg7oqW-aJ9H"
   },
   "source": [
    "Example for weight vector of neuron 8: <br>\n",
    "1st component of weight vector (1) refers to connection neuron 3 $\\rightarrow$ neuron 8 <br>\n",
    "2nd component of weight vector (-2) refers to connection neuron 4 $\\rightarrow$ neuron 8 <br>\n",
    "3rd component of weight vector (3) refers to connection neuron 5 $\\rightarrow$ neuron 8 <br>\n",
    "4th component of weight vector (8) refers to connection neuron 6 $\\rightarrow$ neuron 8 <br>\n",
    "\n",
    "(Source: Stefan Hartmann, Cesar Research)"
   ]
  },
  {
   "cell_type": "markdown",
   "metadata": {
    "colab_type": "text",
    "id": "vfZItGxdaJ9I"
   },
   "source": [
    "### Answer\n",
    "\n",
    "Write your answer here."
   ]
  },
  {
   "cell_type": "markdown",
   "metadata": {
    "colab_type": "text",
    "id": "IXzgojiTaJ9M"
   },
   "source": [
    "b) Assume the following weight matrix, where an entry $w_{ij}$ (ith row, jth column) corresponds to the synaptic weight from neuron $j$ to neuron $i$. (No entry means the synaptic weight is 0).\n",
    "\n",
    "Further assume that the activation function of the neurons of hidden layer 2 (neurons 8, 9 and 10) is linear (with slope $c=1$), whereas the activation function of all other neurons is a Heaviside step function.\n",
    "\n",
    "In this part of the exercise, the threshold $\\theta$ of each node is indicated in the network graph as number in the corresponding neuron.\n",
    "\n",
    "Compute the output of the following feedforward neural network for the inputs $x_1 = 1$, $x_2 = 0$, $x_3 = 1$ and  $x_1 = 0$, $x_2 = 1$, $x_3 = 1$.\n"
   ]
  },
  {
   "cell_type": "markdown",
   "metadata": {
    "colab_type": "text",
    "id": "S6sDZqowaJ9N"
   },
   "source": [
    "Weight matrix:\n",
    "![weight-matrix](images/weight-matrix.png)"
   ]
  },
  {
   "cell_type": "markdown",
   "metadata": {
    "colab_type": "text",
    "id": "PvXMBRG1aJ9O"
   },
   "source": [
    "Network:\n",
    "![network](images/network3.png)    \n",
    "*Note: this is a feedforward neural network of second order*"
   ]
  },
  {
   "cell_type": "markdown",
   "metadata": {
    "colab_type": "text",
    "id": "LpGKRbyIaJ9P"
   },
   "source": [
    "# Exercise 4 (Multi-layer perceptron and XOR):\n",
    "a) Find a multi-layer perceptron which realizes the Boolean function XOR. Demonstrate that\n",
    "the found perceptron indeed performs XOR on all possible input pairs.\n"
   ]
  },
  {
   "cell_type": "markdown",
   "metadata": {
    "colab_type": "text",
    "id": "fxQOVDIPaJ9R"
   },
   "source": [
    "### Answer\n",
    "Write your answer here."
   ]
  },
  {
   "cell_type": "markdown",
   "metadata": {
    "colab_type": "text",
    "id": "In8ZVQPUaJ9S"
   },
   "source": [
    "b) Find a perceptron with two (binary) inputs which realizes the function\n",
    "\n",
    "$F(x_1,x_2) = \n",
    "\\begin{cases}\n",
    "1  & \\text{if $x_1 + x_2 = 1$} \\\\\n",
    "0 & \\text{else}\n",
    "\\end{cases} \n",
    "$\n",
    "\n",
    "*Note: “+” denotes mathematical addition.*"
   ]
  },
  {
   "cell_type": "markdown",
   "metadata": {
    "colab_type": "text",
    "id": "sjB-no5NaJ9T"
   },
   "source": [
    "### Answer\n",
    "Write your answer here."
   ]
  }
 ],
 "metadata": {
  "colab": {
   "collapsed_sections": [],
   "include_colab_link": true,
   "name": "Sheet 2.ipynb",
   "provenance": []
  },
  "kernelspec": {
   "display_name": "Python 3",
   "language": "python",
   "name": "python3"
  },
  "language_info": {
   "codemirror_mode": {
    "name": "ipython",
    "version": 3
   },
   "file_extension": ".py",
   "mimetype": "text/x-python",
   "name": "python",
   "nbconvert_exporter": "python",
   "pygments_lexer": "ipython3",
   "version": "3.7.6"
  }
 },
 "nbformat": 4,
 "nbformat_minor": 1
}
