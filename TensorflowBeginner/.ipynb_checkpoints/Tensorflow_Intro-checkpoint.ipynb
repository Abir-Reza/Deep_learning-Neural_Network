{
 "cells": [
  {
   "cell_type": "markdown",
   "metadata": {},
   "source": [
    "### Import libraries\n",
    "\n"
   ]
  },
  {
   "cell_type": "code",
   "execution_count": 17,
   "metadata": {},
   "outputs": [],
   "source": [
    "import numpy as np\n",
    "import matplotlib.pyplot as plt\n",
    "import tensorflow as tf"
   ]
  },
  {
   "cell_type": "markdown",
   "metadata": {},
   "source": [
    "### Data Generation \n"
   ]
  },
  {
   "cell_type": "code",
   "execution_count": 18,
   "metadata": {},
   "outputs": [],
   "source": [
    "## Data given in a file. * Open , read, prepocess and then save in .npz format\n",
    "\n",
    "observations = 1000\n",
    "xs = np.random.uniform(low=-10,high=10,size=(observations,1))\n",
    "zs = np.random.uniform(-10, 10, size= (observations,1))\n",
    "\n",
    "generated_input  = np.column_stack((xs,zs))\n",
    "\n",
    "noise = np.random.uniform(-1,1,size =(observations,1))\n",
    "\n",
    "generated_target = 2*xs -3*zs +5 + noise \n",
    "\n",
    "\n",
    "\n",
    "np.savez('TF_intro',inputs= generated_input, target=generated_target)\n",
    "\n",
    "## A method for saving n dimentional array in .npz format   ## np.savez('filename',arrays)"
   ]
  },
  {
   "cell_type": "markdown",
   "metadata": {},
   "source": [
    "### Solving with tensorflow\n"
   ]
  },
  {
   "cell_type": "code",
   "execution_count": 19,
   "metadata": {},
   "outputs": [],
   "source": [
    "input_size= 2\n",
    "output_size = 1"
   ]
  },
  {
   "cell_type": "markdown",
   "metadata": {},
   "source": [
    "### Model Outline \n"
   ]
  },
  {
   "cell_type": "code",
   "execution_count": 20,
   "metadata": {},
   "outputs": [],
   "source": [
    "## creating tensorflow object \n",
    "\n",
    "inputs = tf.placeholder(tf.float32,[None,input_size]) \n",
    "## placeholder is the place where we place the data ## None means -> we need not specify the dimention of the data\n",
    "\n",
    "target = tf.placeholder(tf.float32,[None,output_size])\n",
    "\n",
    "weights= tf.Variable(tf.random_uniform([input_size,output_size],minval = -0.1, maxval= 0.1))\n",
    "\n",
    "biases = tf.Variable(tf.random_uniform([output_size],minval= -0.1, maxval= 0.1))\n",
    "\n",
    "outputs= tf.matmul(inputs,weights) + biases  "
   ]
  },
  {
   "cell_type": "markdown",
   "metadata": {},
   "source": [
    "### Objective function and optimization method\n"
   ]
  },
  {
   "cell_type": "code",
   "execution_count": 21,
   "metadata": {},
   "outputs": [],
   "source": [
    "mean_loss = tf.losses.mean_squared_error(labels= target, predictions = outputs ) / 2.\n",
    "\n",
    "optimize = tf.train.GradientDescentOptimizer(learning_rate = 0.05).minimize(mean_loss)\n",
    "\n",
    "\n",
    "## preparing for execution\n",
    "sess = tf.InteractiveSession()   ## Training happens in InteractiveSession()"
   ]
  },
  {
   "cell_type": "markdown",
   "metadata": {},
   "source": [
    "### Initialize Variables"
   ]
  },
  {
   "cell_type": "code",
   "execution_count": 22,
   "metadata": {},
   "outputs": [],
   "source": [
    "initializer = tf.global_variables_initializer()  ## All tensor objects(weights,baises) marked as variable are initialized by this method\n",
    "\n",
    "sess.run(initializer)"
   ]
  },
  {
   "cell_type": "markdown",
   "metadata": {},
   "source": [
    "### Loading Trainig data from .npz file\n"
   ]
  },
  {
   "cell_type": "code",
   "execution_count": 23,
   "metadata": {},
   "outputs": [],
   "source": [
    "training_data = np.load('TF_intro.npz')"
   ]
  },
  {
   "cell_type": "markdown",
   "metadata": {},
   "source": [
    "### Learning \n"
   ]
  },
  {
   "cell_type": "code",
   "execution_count": 24,
   "metadata": {},
   "outputs": [
    {
     "name": "stdout",
     "output_type": "stream",
     "text": [
      "232.40225\n",
      "121.04388\n",
      "67.14642\n",
      "39.533646\n",
      "24.719477\n",
      "16.457052\n",
      "11.676777\n",
      "8.799868\n",
      "6.987375\n",
      "5.7832823\n",
      "4.9356837\n",
      "4.3036103\n",
      "3.807166\n",
      "3.4003813\n",
      "3.056269\n",
      "2.7585473\n",
      "2.4970138\n",
      "2.2649713\n",
      "2.0577738\n",
      "1.8720139\n",
      "1.7050476\n",
      "1.5547378\n",
      "1.419289\n",
      "1.297156\n",
      "1.1869882\n",
      "1.0875907\n",
      "0.99789685\n",
      "0.91695285\n",
      "0.8439\n",
      "0.77796715\n",
      "0.71845984\n",
      "0.6647496\n",
      "0.61627287\n",
      "0.5725185\n",
      "0.53302646\n",
      "0.49738193\n",
      "0.46520942\n",
      "0.43617138\n",
      "0.40996155\n",
      "0.38630557\n",
      "0.36495352\n",
      "0.34568128\n",
      "0.32828674\n",
      "0.3125865\n",
      "0.29841608\n",
      "0.2856253\n",
      "0.27408117\n",
      "0.2636613\n",
      "0.25425646\n",
      "0.24576785\n",
      "0.2381063\n",
      "0.23119107\n",
      "0.22494937\n",
      "0.21931557\n",
      "0.21423075\n",
      "0.20964114\n",
      "0.20549875\n",
      "0.2017598\n",
      "0.19838506\n",
      "0.19533908\n",
      "0.19258997\n",
      "0.1901085\n",
      "0.18786873\n",
      "0.1858472\n",
      "0.18402272\n",
      "0.18237582\n",
      "0.1808894\n",
      "0.17954773\n",
      "0.17833675\n",
      "0.17724383\n",
      "0.17625731\n",
      "0.17536694\n",
      "0.17456323\n",
      "0.17383784\n",
      "0.1731831\n",
      "0.17259218\n",
      "0.17205882\n",
      "0.1715774\n",
      "0.17114288\n",
      "0.17075068\n",
      "0.17039672\n",
      "0.17007715\n",
      "0.16978875\n",
      "0.16952844\n",
      "0.16929355\n",
      "0.1690815\n",
      "0.16889013\n",
      "0.16871741\n",
      "0.16856144\n",
      "0.16842072\n",
      "0.16829368\n",
      "0.16817905\n",
      "0.16807556\n",
      "0.16798212\n",
      "0.16789784\n",
      "0.16782175\n",
      "0.16775312\n",
      "0.16769111\n",
      "0.16763511\n",
      "0.16758466\n"
     ]
    }
   ],
   "source": [
    "## TensorFlow feed_dict: Use feed_dict To Feed Values To TensorFlow Placeholders\n",
    "\n",
    "for e in range(100) :\n",
    "    _,curr_loss = sess.run([optimize,mean_loss],feed_dict = {inputs : training_data['inputs'],target : training_data['target'] })\n",
    "    \n",
    "    print(curr_loss)"
   ]
  },
  {
   "cell_type": "markdown",
   "metadata": {},
   "source": [
    "### Plotting data\n"
   ]
  },
  {
   "cell_type": "code",
   "execution_count": 32,
   "metadata": {},
   "outputs": [
    {
     "ename": "ValueError",
     "evalue": "Cannot feed value of shape (1000, 1) for Tensor 'Placeholder_2:0', which has shape '(?, 2)'",
     "output_type": "error",
     "traceback": [
      "\u001b[1;31m---------------------------------------------------------------------------\u001b[0m",
      "\u001b[1;31mValueError\u001b[0m                                Traceback (most recent call last)",
      "\u001b[1;32m<ipython-input-32-61cdcae7304c>\u001b[0m in \u001b[0;36m<module>\u001b[1;34m\u001b[0m\n\u001b[1;32m----> 1\u001b[1;33m \u001b[0mout\u001b[0m \u001b[1;33m=\u001b[0m \u001b[0msess\u001b[0m\u001b[1;33m.\u001b[0m\u001b[0mrun\u001b[0m\u001b[1;33m(\u001b[0m\u001b[1;33m[\u001b[0m\u001b[0moutputs\u001b[0m\u001b[1;33m]\u001b[0m\u001b[1;33m,\u001b[0m\u001b[0mfeed_dict\u001b[0m \u001b[1;33m=\u001b[0m \u001b[1;33m{\u001b[0m\u001b[0minputs\u001b[0m \u001b[1;33m:\u001b[0m \u001b[0mtraining_data\u001b[0m\u001b[1;33m[\u001b[0m\u001b[1;34m'target'\u001b[0m\u001b[1;33m]\u001b[0m \u001b[1;33m}\u001b[0m\u001b[1;33m)\u001b[0m\u001b[1;33m\u001b[0m\u001b[1;33m\u001b[0m\u001b[0m\n\u001b[0m\u001b[0;32m      2\u001b[0m \u001b[1;33m\u001b[0m\u001b[0m\n\u001b[0;32m      3\u001b[0m \u001b[0mplt\u001b[0m\u001b[1;33m.\u001b[0m\u001b[0mplot\u001b[0m\u001b[1;33m(\u001b[0m \u001b[0mnp\u001b[0m\u001b[1;33m.\u001b[0m\u001b[0msqueeze\u001b[0m\u001b[1;33m(\u001b[0m\u001b[0mout\u001b[0m\u001b[1;33m)\u001b[0m\u001b[1;33m,\u001b[0m \u001b[0mnp\u001b[0m\u001b[1;33m.\u001b[0m\u001b[0msqueeze\u001b[0m\u001b[1;33m(\u001b[0m\u001b[0mtraining_data\u001b[0m\u001b[1;33m[\u001b[0m\u001b[1;34m'target'\u001b[0m\u001b[1;33m]\u001b[0m\u001b[1;33m)\u001b[0m\u001b[1;33m)\u001b[0m\u001b[1;33m\u001b[0m\u001b[1;33m\u001b[0m\u001b[0m\n\u001b[0;32m      4\u001b[0m \u001b[1;33m\u001b[0m\u001b[0m\n\u001b[0;32m      5\u001b[0m \u001b[0mplt\u001b[0m\u001b[1;33m.\u001b[0m\u001b[0mxlabel\u001b[0m\u001b[1;33m(\u001b[0m\u001b[1;34m'Outputs from model'\u001b[0m\u001b[1;33m)\u001b[0m\u001b[1;33m\u001b[0m\u001b[1;33m\u001b[0m\u001b[0m\n",
      "\u001b[1;32m~\\anaconda3\\lib\\site-packages\\tensorflow\\python\\client\\session.py\u001b[0m in \u001b[0;36mrun\u001b[1;34m(self, fetches, feed_dict, options, run_metadata)\u001b[0m\n\u001b[0;32m    948\u001b[0m     \u001b[1;32mtry\u001b[0m\u001b[1;33m:\u001b[0m\u001b[1;33m\u001b[0m\u001b[1;33m\u001b[0m\u001b[0m\n\u001b[0;32m    949\u001b[0m       result = self._run(None, fetches, feed_dict, options_ptr,\n\u001b[1;32m--> 950\u001b[1;33m                          run_metadata_ptr)\n\u001b[0m\u001b[0;32m    951\u001b[0m       \u001b[1;32mif\u001b[0m \u001b[0mrun_metadata\u001b[0m\u001b[1;33m:\u001b[0m\u001b[1;33m\u001b[0m\u001b[1;33m\u001b[0m\u001b[0m\n\u001b[0;32m    952\u001b[0m         \u001b[0mproto_data\u001b[0m \u001b[1;33m=\u001b[0m \u001b[0mtf_session\u001b[0m\u001b[1;33m.\u001b[0m\u001b[0mTF_GetBuffer\u001b[0m\u001b[1;33m(\u001b[0m\u001b[0mrun_metadata_ptr\u001b[0m\u001b[1;33m)\u001b[0m\u001b[1;33m\u001b[0m\u001b[1;33m\u001b[0m\u001b[0m\n",
      "\u001b[1;32m~\\anaconda3\\lib\\site-packages\\tensorflow\\python\\client\\session.py\u001b[0m in \u001b[0;36m_run\u001b[1;34m(self, handle, fetches, feed_dict, options, run_metadata)\u001b[0m\n\u001b[0;32m   1147\u001b[0m                              \u001b[1;34m'which has shape %r'\u001b[0m \u001b[1;33m%\u001b[0m\u001b[1;33m\u001b[0m\u001b[1;33m\u001b[0m\u001b[0m\n\u001b[0;32m   1148\u001b[0m                              (np_val.shape, subfeed_t.name,\n\u001b[1;32m-> 1149\u001b[1;33m                               str(subfeed_t.get_shape())))\n\u001b[0m\u001b[0;32m   1150\u001b[0m           \u001b[1;32mif\u001b[0m \u001b[1;32mnot\u001b[0m \u001b[0mself\u001b[0m\u001b[1;33m.\u001b[0m\u001b[0mgraph\u001b[0m\u001b[1;33m.\u001b[0m\u001b[0mis_feedable\u001b[0m\u001b[1;33m(\u001b[0m\u001b[0msubfeed_t\u001b[0m\u001b[1;33m)\u001b[0m\u001b[1;33m:\u001b[0m\u001b[1;33m\u001b[0m\u001b[1;33m\u001b[0m\u001b[0m\n\u001b[0;32m   1151\u001b[0m             \u001b[1;32mraise\u001b[0m \u001b[0mValueError\u001b[0m\u001b[1;33m(\u001b[0m\u001b[1;34m'Tensor %s may not be fed.'\u001b[0m \u001b[1;33m%\u001b[0m \u001b[0msubfeed_t\u001b[0m\u001b[1;33m)\u001b[0m\u001b[1;33m\u001b[0m\u001b[1;33m\u001b[0m\u001b[0m\n",
      "\u001b[1;31mValueError\u001b[0m: Cannot feed value of shape (1000, 1) for Tensor 'Placeholder_2:0', which has shape '(?, 2)'"
     ]
    }
   ],
   "source": [
    "out = sess.run([outputs],feed_dict = {inputs : training_data['inputs'] })\n",
    "\n",
    "plt.plot( np.squeeze(out), np.squeeze(training_data['target']))\n",
    "\n",
    "plt.xlabel('Outputs from model')\n",
    "plt.ylabel('Target')"
   ]
  }
 ],
 "metadata": {
  "kernelspec": {
   "display_name": "Python 3",
   "language": "python",
   "name": "python3"
  },
  "language_info": {
   "codemirror_mode": {
    "name": "ipython",
    "version": 3
   },
   "file_extension": ".py",
   "mimetype": "text/x-python",
   "name": "python",
   "nbconvert_exporter": "python",
   "pygments_lexer": "ipython3",
   "version": "3.7.6"
  }
 },
 "nbformat": 4,
 "nbformat_minor": 4
}
